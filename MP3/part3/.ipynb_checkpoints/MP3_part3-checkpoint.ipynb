{
 "cells": [
  {
   "cell_type": "markdown",
   "metadata": {},
   "source": [
    "# Single-View Geometry (Python)\n",
    "\n",
    "## Usage\n",
    "This code snippet provides an overall code structure and some interactive plot interfaces for the *Single-View Geometry* section of Assignment 3. In [main function](#Main-function), we outline the required functionalities step by step. Some of the functions which involves interactive plots are already provided, but [the rest](#Your-implementation) are left for you to implement.\n",
    "\n",
    "## Package installation\n",
    "- You will need [GUI backend](https://matplotlib.org/faq/usage_faq.html#what-is-a-backend) to enable interactive plots in `matplotlib`.\n",
    "- In this code, we use `tkinter` package. Installation instruction can be found [here](https://anaconda.org/anaconda/tk)."
   ]
  },
  {
   "cell_type": "markdown",
   "metadata": {},
   "source": [
    "# Common imports"
   ]
  },
  {
   "cell_type": "code",
   "execution_count": 306,
   "metadata": {},
   "outputs": [],
   "source": [
    "% matplotlib tk\n",
    "import matplotlib.pyplot as plt\n",
    "import numpy as np\n",
    "from sympy.matrices import Matrix\n",
    "from sympy import Symbol\n",
    "from sympy import *\n",
    "from sympy import MatrixSymbol, Transpose\n",
    "from PIL import Image"
   ]
  },
  {
   "cell_type": "markdown",
   "metadata": {},
   "source": [
    "# Provided functions"
   ]
  },
  {
   "cell_type": "code",
   "execution_count": 307,
   "metadata": {
    "collapsed": true
   },
   "outputs": [],
   "source": [
    "def get_input_lines(im, min_lines=3):\n",
    "    \"\"\"\n",
    "    Allows user to input line segments; computes centers and directions.\n",
    "    Inputs:\n",
    "        im: np.ndarray of shape (height, width, 3)\n",
    "        min_lines: minimum number of lines required\n",
    "    Returns:\n",
    "        n: number of lines from input\n",
    "        lines: np.ndarray of shape (3, n)\n",
    "            where each column denotes the parameters of the line equation\n",
    "        centers: np.ndarray of shape (3, n)\n",
    "            where each column denotes the homogeneous coordinates of the centers\n",
    "    \"\"\"\n",
    "    n = 0\n",
    "    lines = np.zeros((3, 0))\n",
    "    centers = np.zeros((3, 0))\n",
    "\n",
    "    plt.figure()\n",
    "    plt.imshow(im)\n",
    "    print('Set at least %d lines to compute vanishing point' % min_lines)\n",
    "    while True:\n",
    "        print('Click the two endpoints, use the right key to undo, and use the middle key to stop input')\n",
    "        clicked = plt.ginput(2, timeout=0, show_clicks=True)\n",
    "        if not clicked or len(clicked) < 2:\n",
    "            if n < min_lines:\n",
    "                print('Need at least %d lines, you have %d now' % (min_lines, n))\n",
    "                continue\n",
    "            else:\n",
    "                # Stop getting lines if number of lines is enough\n",
    "                break\n",
    "\n",
    "        # Unpack user inputs and save as homogeneous coordinates\n",
    "        pt1 = np.array([clicked[0][0], clicked[0][1], 1])\n",
    "        pt2 = np.array([clicked[1][0], clicked[1][1], 1])\n",
    "        # Get line equation using cross product\n",
    "        # Line equation: line[0] * x + line[1] * y + line[2] = 0\n",
    "        line = np.cross(pt1, pt2)\n",
    "        lines = np.append(lines, line.reshape((3, 1)), axis=1)\n",
    "        # Get center coordinate of the line segment\n",
    "        center = (pt1 + pt2) / 2\n",
    "        centers = np.append(centers, center.reshape((3, 1)), axis=1)\n",
    "\n",
    "        # Plot line segment\n",
    "        plt.plot([pt1[0], pt2[0]], [pt1[1], pt2[1]], color='b')\n",
    "\n",
    "        n += 1\n",
    "\n",
    "    return n, lines, centers"
   ]
  },
  {
   "cell_type": "code",
   "execution_count": 308,
   "metadata": {
    "collapsed": true
   },
   "outputs": [],
   "source": [
    "def plot_lines_and_vp(im, lines, vp):\n",
    "    \"\"\"\n",
    "    Plots user-input lines and the calculated vanishing point.\n",
    "    Inputs:\n",
    "        im: np.ndarray of shape (height, width, 3)\n",
    "        lines: np.ndarray of shape (3, n)\n",
    "            where each column denotes the parameters of the line equation\n",
    "        vp: np.ndarray of shape (3, )\n",
    "    \"\"\"\n",
    "    bx1 = min(1, vp[0] / vp[2]) - 10\n",
    "    bx2 = max(im.shape[1], vp[0] / vp[2]) + 10\n",
    "    by1 = min(1, vp[1] / vp[2]) - 10\n",
    "    by2 = max(im.shape[0], vp[1] / vp[2]) + 10\n",
    "\n",
    "    plt.figure()\n",
    "    plt.imshow(im)\n",
    "    for i in range(lines.shape[1]):\n",
    "        if lines[0, i] < lines[1, i]:\n",
    "            pt1 = np.cross(np.array([1, 0, -bx1]), lines[:, i])\n",
    "            pt2 = np.cross(np.array([1, 0, -bx2]), lines[:, i])\n",
    "        else:\n",
    "            pt1 = np.cross(np.array([0, 1, -by1]), lines[:, i])\n",
    "            pt2 = np.cross(np.array([0, 1, -by2]), lines[:, i])\n",
    "        pt1 = pt1 / pt1[2]\n",
    "        pt2 = pt2 / pt2[2]\n",
    "        plt.plot([pt1[0], pt2[0]], [pt1[1], pt2[1]], 'g')\n",
    "\n",
    "    plt.plot(vp[0] / vp[2], vp[1] / vp[2], 'ro')\n",
    "    plt.show()"
   ]
  },
  {
   "cell_type": "code",
   "execution_count": 309,
   "metadata": {
    "collapsed": true
   },
   "outputs": [],
   "source": [
    "def get_top_and_bottom_coordinates(im, obj):\n",
    "    \"\"\"\n",
    "    For a specific object, prompts user to record the top coordinate and the bottom coordinate in the image.\n",
    "    Inputs:\n",
    "        im: np.ndarray of shape (height, width, 3)\n",
    "        obj: string, object name\n",
    "    Returns:\n",
    "        coord: np.ndarray of shape (3, 2)\n",
    "            where coord[:, 0] is the homogeneous coordinate of the top of the object and coord[:, 1] is the homogeneous\n",
    "            coordinate of the bottom\n",
    "    \"\"\"\n",
    "    plt.figure()\n",
    "    plt.imshow(im)\n",
    "\n",
    "    print('Click on the top coordinate of %s' % obj)\n",
    "    clicked = plt.ginput(1, timeout=0, show_clicks=True)\n",
    "    x1, y1 = clicked[0]\n",
    "    # Uncomment this line to enable a vertical line to help align the two coordinates\n",
    "    # plt.plot([x1, x1], [0, im.shape[0]], 'b')\n",
    "    print('Click on the bottom coordinate of %s' % obj)\n",
    "    clicked = plt.ginput(1, timeout=0, show_clicks=True)\n",
    "    x2, y2 = clicked[0]\n",
    "\n",
    "    plt.plot([x1, x2], [y1, y2], 'b')\n",
    "\n",
    "    return np.array([[x1, x2], [y1, y2], [1, 1]])"
   ]
  },
  {
   "cell_type": "markdown",
   "metadata": {},
   "source": [
    "# Your implementation"
   ]
  },
  {
   "cell_type": "code",
   "execution_count": 310,
   "metadata": {
    "collapsed": true
   },
   "outputs": [],
   "source": [
    "def get_vanishing_point(n, lines):\n",
    "    \"\"\"\n",
    "    Solves for the vanishing point using the user-input lines.\n",
    "    \"\"\"\n",
    "    print(\"lines: \" + str(lines))\n",
    "    # <YOUR IMPLEMENTATION>\n",
    "    lines_transposed = np.transpose(lines)\n",
    "    line_1 = lines_transposed[0]\n",
    "    line_2 = lines_transposed[1]\n",
    "    line_3 = lines_transposed[2]\n",
    "    cross_1_2 = np.cross(line_1, line_2)\n",
    "    cross_2_3 = np.cross(line_2, line_3)\n",
    "    cross_1_3 = np.cross(line_1, line_3)\n",
    "    cross_1_2_homo = cross_1_2 / cross_1_2[2]\n",
    "    cross_2_3_homo = cross_2_3 / cross_2_3[2]\n",
    "    cross_1_3_homo = cross_1_3 / cross_1_3[2]\n",
    "    return np.divide(cross_1_2_homo + cross_2_3_homo + cross_1_3_homo, 3)"
   ]
  },
  {
   "cell_type": "code",
   "execution_count": 311,
   "metadata": {
    "collapsed": true
   },
   "outputs": [],
   "source": [
    "def get_horizon_line(vpts):\n",
    "    \"\"\"\n",
    "    Calculates the ground horizon line.\n",
    "    \"\"\"\n",
    "    # <YOUR IMPLEMENTATION>\n",
    "    pt1 = np.transpose(vpts)[0]\n",
    "    pt2 = np.transpose(vpts)[1]\n",
    "    x1 = pt1[0]\n",
    "    x2 = pt2[0]\n",
    "    y1 = pt1[1]\n",
    "    y2 = pt2[1]\n",
    "    a = (y2 - y1) / (x2 - x1)\n",
    "    c = y2 - x2 * a\n",
    "    a /= np.sqrt(a ** 2 + 1)\n",
    "    b = 1 / np.sqrt(a ** 2 + 1)\n",
    "    c /= np.sqrt(a ** 2 + 1)\n",
    "    return [a, b, c]"
   ]
  },
  {
   "cell_type": "code",
   "execution_count": 312,
   "metadata": {
    "collapsed": true
   },
   "outputs": [],
   "source": [
    "def plot_horizon_line(im, vpts):\n",
    "    \"\"\"\n",
    "    Plots the horizon line.\n",
    "    \"\"\"\n",
    "    # <YOUR IMPLEMENTATION>\n",
    "    pt1 = np.transpose(vpts)[0]\n",
    "    pt2 = np.transpose(vpts)[1]\n",
    "    x1 = pt1[0]\n",
    "    x2 = pt2[0]\n",
    "    y1 = pt1[1]\n",
    "    y2 = pt2[1]\n",
    "    plt.figure()\n",
    "    plt.imshow(im)\n",
    "    plt.plot([x1, x2], [y1, y2], 'ro-')\n",
    "    plt.show()"
   ]
  },
  {
   "cell_type": "code",
   "execution_count": 1,
   "metadata": {},
   "outputs": [],
   "source": [
    "def get_camera_parameters(vpts):\n",
    "    \"\"\"\n",
    "    Computes the camera parameters. Hint: The SymPy package is suitable for this.\n",
    "    \"\"\"\n",
    "    # <YOUR IMPLEMENTATION>\n",
    "    pt1 = Matrix(np.transpose(vpts)[0])\n",
    "    pt2 = Matrix(np.transpose(vpts)[1])\n",
    "    pt3 = Matrix(np.transpose(vpts)[2])\n",
    "    f = Symbol('f')\n",
    "    u = Symbol('u')\n",
    "    v = Symbol('v')\n",
    "    K = Matrix(((f, 0, u), (0, f, v), (0, 0, 1)))\n",
    "    constraint1 = K.inv() * pt1\n",
    "    constraint2 = K.inv() * pt2\n",
    "    constraint3 = K.inv() * pt3\n",
    "    eq1 = constraint1.T * constraint2\n",
    "    eq2 = constraint1.T * constraint3\n",
    "    eq3 = constraint2.T * constraint3\n",
    "    intrinsic_para = solve([eq1, eq2, eq3], [f, u, v])\n",
    "    return (np.absolute(intrinsic_para[0][0]), intrinsic_para[0][1], intrinsic_para[0][2])"
   ]
  },
  {
   "cell_type": "code",
   "execution_count": 314,
   "metadata": {
    "collapsed": true
   },
   "outputs": [],
   "source": [
    "def get_rotation_matrix(vpts, f, u, v):\n",
    "    \"\"\"\n",
    "    Computes the rotation matrix using the camera parameters.\n",
    "    \"\"\"\n",
    "    # <YOUR IMPLEMENTATION>\n",
    "    calibration_matrix = np.array([[f, 0, u], [0, f, v], [0, 0, 1]], dtype='float')\n",
    "    Z = np.transpose(vpts)[0]\n",
    "    X = np.transpose(vpts)[1]\n",
    "    Y = np.transpose(vpts)[2]\n",
    "    r1 = np.matmul(np.linalg.inv(calibration_matrix), X)\n",
    "    r2 = np.matmul(np.linalg.inv(calibration_matrix), Y)\n",
    "    r3 = np.matmul(np.linalg.inv(calibration_matrix), Z)\n",
    "    r1 = r1 / np.linalg.norm(r1)\n",
    "    r2 = r2 / np.linalg.norm(r2)\n",
    "    r3 = r3 / np.linalg.norm(r3)\n",
    "    rotation_matrix = np.column_stack((r1, r2, r3))\n",
    "    return rotation_matrix"
   ]
  },
  {
   "cell_type": "code",
   "execution_count": 320,
   "metadata": {
    "collapsed": true
   },
   "outputs": [],
   "source": [
    "def estimate_height(im, vpts, reference_coords, obj_coords):\n",
    "    \"\"\"\n",
    "    Estimates height for a specific object using the recorded coordinates. You might need to plot additional images here for\n",
    "    your report.\n",
    "    \"\"\"\n",
    "    # <YOUR IMPLEMENTATION>\n",
    "#     print(obj_coords)\n",
    "    reference_height = 1.6764\n",
    "#     reference_height = 1.8688\n",
    "    vx = np.transpose(vpts)[0]\n",
    "    vy = np.transpose(vpts)[1]\n",
    "    vz = np.transpose(vpts)[2]\n",
    "    r = obj_coords[:, 0]\n",
    "    b = obj_coords[:, 1]\n",
    "    t0 = reference_coords[:, 0]\n",
    "    b0 = reference_coords[:, 1]\n",
    "    v = np.cross(np.cross(b, b0), np.cross(vx, vy))\n",
    "    v /= v[-1]\n",
    "    t = np.cross(np.cross(v, t0), np.cross(r, b))\n",
    "    t /= t[-1]\n",
    "    height = reference_height / ((np.linalg.norm(t - b) * np.linalg.norm(vz - r)) / (np.linalg.norm(r - b) * np.linalg.norm(vz - t)))\n",
    "    \n",
    "    # Plot all the lines\n",
    "    plt.figure()\n",
    "    plt.imshow(im)\n",
    "    plt.plot([r[0], b[0]], [r[1], b[1]], 'b', marker = \",\")\n",
    "    plt.plot([vx[0], vy[0]], [vx[1], vy[1]], 'r', marker = \",\")\n",
    "    plt.plot([b[0], v[0]], [b[1], v[1]], 'r', marker = \",\")\n",
    "    plt.plot([t[0], v[0]], [t[1], v[1]], 'r', marker = \",\")\n",
    "    plt.plot([b0[0], v[0]], [b0[1], v[1]], 'r', marker = \",\")\n",
    "    plt.plot([t0[0], v[0]], [t0[1], v[1]], 'r', marker = \",\")\n",
    "    plt.plot([t0[0], b0[0]], [t0[1], b0[1]], 'b', marker = \",\")\n",
    "    plt.show()\n",
    "    \n",
    "    return height"
   ]
  },
  {
   "cell_type": "markdown",
   "metadata": {},
   "source": [
    "# Main function"
   ]
  },
  {
   "cell_type": "code",
   "execution_count": 325,
   "metadata": {},
   "outputs": [
    {
     "name": "stdout",
     "output_type": "stream",
     "text": [
      "Getting vanishing point 0\n",
      "Set at least 3 lines to compute vanishing point\n",
      "Click the two endpoints, use the right key to undo, and use the middle key to stop input\n",
      "Click the two endpoints, use the right key to undo, and use the middle key to stop input\n",
      "Click the two endpoints, use the right key to undo, and use the middle key to stop input\n",
      "Click the two endpoints, use the right key to undo, and use the middle key to stop input\n",
      "lines: [[  1.39182851e+01   5.79928546e+00  -4.63942837e+00]\n",
      " [  1.41502565e+02   1.27584280e+02   4.52344266e+02]\n",
      " [ -2.89584625e+04  -2.64576552e+04  -9.83809168e+04]]\n",
      "Getting vanishing point 1\n",
      "Set at least 3 lines to compute vanishing point\n",
      "Click the two endpoints, use the right key to undo, and use the middle key to stop input\n",
      "Click the two endpoints, use the right key to undo, and use the middle key to stop input\n",
      "Click the two endpoints, use the right key to undo, and use the middle key to stop input\n",
      "Click the two endpoints, use the right key to undo, and use the middle key to stop input\n",
      "lines: [[ -2.20372847e+01  -1.15985709e+01   0.00000000e+00]\n",
      " [  1.29903994e+02   1.13665995e+02   1.10186424e+02]\n",
      " [  8.89237691e+02  -1.03986661e+04  -2.51164943e+04]]\n",
      "Getting vanishing point 2\n",
      "Set at least 3 lines to compute vanishing point\n",
      "Click the two endpoints, use the right key to undo, and use the middle key to stop input\n",
      "Click the two endpoints, use the right key to undo, and use the middle key to stop input\n",
      "Click the two endpoints, use the right key to undo, and use the middle key to stop input\n",
      "Click the two endpoints, use the right key to undo, and use the middle key to stop input\n",
      "lines: [[ -8.11899964e+01  -8.23498535e+01  -9.16287103e+01]\n",
      " [  0.00000000e+00  -2.31971418e+00  -1.15985709e+00]\n",
      " [  4.78191586e+04   5.29323363e+04   6.34185587e+04]]\n",
      "[[ -1.17107379e+02   1.39196215e+03   6.36785897e+02]\n",
      " [  2.13873920e+02   2.31932527e+02   2.29219778e+03]\n",
      " [  1.00000000e+00   1.00000000e+00   1.00000000e+00]] [0.011965859724133472, 0.99992841678749922, 215.25990030653841]\n"
     ]
    },
    {
     "name": "stderr",
     "output_type": "stream",
     "text": [
      "C:\\Users\\Jackliu016\\Anaconda3\\lib\\site-packages\\ipykernel_launcher.py:24: RuntimeWarning: divide by zero encountered in true_divide\n",
      "C:\\Users\\Jackliu016\\Anaconda3\\lib\\site-packages\\ipykernel_launcher.py:24: RuntimeWarning: invalid value encountered in true_divide\n",
      "C:\\Users\\Jackliu016\\Anaconda3\\lib\\site-packages\\ipykernel_launcher.py:25: RuntimeWarning: divide by zero encountered in true_divide\n",
      "C:\\Users\\Jackliu016\\Anaconda3\\lib\\site-packages\\ipykernel_launcher.py:25: RuntimeWarning: invalid value encountered in true_divide\n"
     ]
    },
    {
     "name": "stdout",
     "output_type": "stream",
     "text": [
      "702.317080907104 658.255619754008 498.077966200278\n",
      "[[ 0.6987973  -0.01114266 -0.71523296]\n",
      " [-0.25348243  0.93113737 -0.26216379]\n",
      " [ 0.66890134  0.36449833  0.64785181]]\n",
      "Click on the top coordinate of person\n",
      "Click on the bottom coordinate of person\n",
      "Click on the top coordinate of window\n",
      "Click on the bottom coordinate of window\n",
      "Click on the top coordinate of person1\n",
      "Click on the bottom coordinate of person1\n",
      "Click on the top coordinate of person2\n",
      "Click on the bottom coordinate of person2\n",
      "Click on the top coordinate of person3\n",
      "Click on the bottom coordinate of person3\n",
      "Estimating height of window\n",
      "2.26875310562\n",
      "Estimating height of person1\n",
      "1.69802517472\n",
      "Estimating height of person2\n",
      "1.60862813287\n",
      "Estimating height of person3\n",
      "1.66634266376\n"
     ]
    }
   ],
   "source": [
    "im = np.asarray(Image.open('CSL.jpg'))\n",
    "\n",
    "# Part 1\n",
    "# Get vanishing points for each of the directions\n",
    "num_vpts = 3\n",
    "vpts = np.zeros((3, num_vpts))\n",
    "for i in range(num_vpts):\n",
    "    print('Getting vanishing point %d' % i)\n",
    "    # Get at least three lines from user input\n",
    "    n, lines, centers = get_input_lines(im)\n",
    "    # <YOUR IMPLEMENTATION> Solve for vanishing point\n",
    "    vpts[:, i] = get_vanishing_point(n, lines)\n",
    "    # Plot the lines and the vanishing point\n",
    "    plot_lines_and_vp(im, lines, vpts[:, i])\n",
    "\n",
    "# <YOUR IMPLEMENTATION> Get the ground horizon line\n",
    "horizon_line = get_horizon_line(vpts)\n",
    "# <YOUR IMPLEMENTATION> Plot the ground horizon line\n",
    "plot_horizon_line(im, vpts)\n",
    "\n",
    "# Part 2\n",
    "# <YOUR IMPLEMENTATION> Solve for the camera parameters (f, u, v)\n",
    "f, u, v = get_camera_parameters(vpts)\n",
    "\n",
    "# Part 3\n",
    "# <YOUR IMPLEMENTATION> Solve for the rotation matrix\n",
    "R = get_rotation_matrix(vpts, f, u, v)\n",
    "\n",
    "# Part 4\n",
    "# Record image coordinates for each object and store in map\n",
    "objects = ('person', 'CSL building', 'the spike statue', 'the lamp posts')\n",
    "coords = dict()\n",
    "for obj in objects:\n",
    "    coords[obj] = get_top_and_bottom_coordinates(im, obj)\n",
    "\n",
    "# # <YOUR IMPLEMENTATION> Estimate heights\n",
    "for obj in objects[1:]:\n",
    "    print('Estimating height of %s' % obj)\n",
    "    height = estimate_height(im, vpts, coords['person'], coords[obj])\n",
    "    print(height)\n",
    "    \n",
    "# Extra credit part\n",
    "objects = ('person', 'window', 'person1', 'person2', 'person3')\n",
    "coords = dict()\n",
    "for obj in objects:\n",
    "    coords[obj] = get_top_and_bottom_coordinates(im, obj)\n",
    "    \n",
    "for obj in objects[1:]:\n",
    "    print('Estimating height of %s' % obj)\n",
    "    height = estimate_height(im, vpts, coords['person'], coords[obj])\n",
    "    print(height)"
   ]
  },
  {
   "cell_type": "code",
   "execution_count": null,
   "metadata": {
    "collapsed": true
   },
   "outputs": [],
   "source": []
  },
  {
   "cell_type": "code",
   "execution_count": null,
   "metadata": {
    "collapsed": true
   },
   "outputs": [],
   "source": []
  }
 ],
 "metadata": {
  "kernelspec": {
   "display_name": "Python 3",
   "language": "python",
   "name": "python3"
  },
  "language_info": {
   "codemirror_mode": {
    "name": "ipython",
    "version": 3
   },
   "file_extension": ".py",
   "mimetype": "text/x-python",
   "name": "python",
   "nbconvert_exporter": "python",
   "pygments_lexer": "ipython3",
   "version": "3.6.8"
  }
 },
 "nbformat": 4,
 "nbformat_minor": 2
}
